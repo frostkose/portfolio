{
  "cells": [
    {
      "cell_type": "code",
      "execution_count": null,
      "metadata": {
        "id": "LZPd5Eor-Uak"
      },
      "outputs": [],
      "source": [
        "import math\n",
        "import random\n",
        "import os"
      ]
    },
    {
      "cell_type": "markdown",
      "metadata": {
        "id": "UIJb1fdAvjB9"
      },
      "source": [
        "calcul de la distance euclidienne définie comme:\n",
        "\n",
        "  $d_{ij}$: Distance (ou coût) entre les nœuds $i$ et $j$, calculée par la formule euclidienne arrondie :\n",
        "    \\begin{equation}\n",
        "     d_{ij} = \\lfloor \\sqrt{(x_j - x_i)^2 + (y_j - y_i)^2} + 0.5 \\rfloor\n",
        "     \\end{equation}\n",
        "    \n",
        "    "
      ]
    },
    {
      "cell_type": "code",
      "execution_count": null,
      "metadata": {
        "id": "-QLbFPVV-f9O"
      },
      "outputs": [],
      "source": [
        "def compute_dist(xi, xj, yi, yj):\n",
        "    return math.floor(math.sqrt(math.pow(xi - xj, 2) + math.pow(yi - yj, 2)) + 0.5)"
      ]
    },
    {
      "cell_type": "markdown",
      "metadata": {
        "id": "R9UeY9HJ-yhw"
      },
      "source": [
        "**Calcul de la distance entre dépôt et client**"
      ]
    },
    {
      "cell_type": "code",
      "execution_count": null,
      "metadata": {
        "id": "DosHHFWf-_5C"
      },
      "outputs": [],
      "source": [
        "def compute_distance_depots(depot_x, depot_y, customers_x, customers_y):\n",
        "    nb_customers = len(customers_x)\n",
        "    distance_depots = [None] * nb_customers\n",
        "    for i in range(nb_customers):\n",
        "        dist = compute_dist(depot_x, customers_x[i], depot_y, customers_y[i])\n",
        "        distance_depots[i] = dist\n",
        "    return distance_depots"
      ]
    },
    {
      "cell_type": "markdown",
      "metadata": {
        "id": "FsrZdA6J_MdZ"
      },
      "source": [
        "**Calcul de la distance entre les clients**"
      ]
    },
    {
      "cell_type": "code",
      "execution_count": null,
      "metadata": {
        "id": "kuWc414a_SkJ"
      },
      "outputs": [],
      "source": [
        "def compute_distance_matrix(customers_x, customers_y):\n",
        "    nb_customers = len(customers_x)\n",
        "    distance_matrix = [[None for _ in range(nb_customers)] for _ in range(nb_customers)]\n",
        "    for i in range(nb_customers):\n",
        "        distance_matrix[i][i] = 0\n",
        "        for j in range(i + 1, nb_customers):\n",
        "            dist = compute_dist(customers_x[i], customers_x[j], customers_y[i], customers_y[j])\n",
        "            distance_matrix[i][j] = dist\n",
        "            distance_matrix[j][i] = dist\n",
        "    return distance_matrix\n"
      ]
    },
    {
      "cell_type": "markdown",
      "metadata": {
        "id": "EXUQTr3x_Xck"
      },
      "source": [
        "**Lecture et extraction des données d'entrée**"
      ]
    },
    {
      "cell_type": "code",
      "execution_count": null,
      "metadata": {
        "id": "cFc0meBP_fb-"
      },
      "outputs": [],
      "source": [
        "def read_elem(filename):\n",
        "    with open(filename) as f:\n",
        "        return [str(elem) for elem in f.read().split()]\n",
        "\n",
        "def read_input_instances(filename):\n",
        "    file_it = iter(read_elem(filename))\n",
        "\n",
        "    nb_customers = int(next(file_it))\n",
        "    capacity = int(next(file_it))\n",
        "\n",
        "    demands = [None] * nb_customers\n",
        "    for i in range(nb_customers):\n",
        "        demands[i] = int(next(file_it))\n",
        "\n",
        "    customers_x = [None] * nb_customers\n",
        "    customers_y = [None] * nb_customers\n",
        "    depot_x = float(next(file_it))\n",
        "    depot_y = float(next(file_it))\n",
        "    for i in range(nb_customers):\n",
        "        customers_x[i] = float(next(file_it))\n",
        "        customers_y[i] = float(next(file_it))\n",
        "\n",
        "    distance_matrix = compute_distance_matrix(customers_x, customers_y)\n",
        "    distance_depots = compute_distance_depots(depot_x, depot_y, customers_x, customers_y)\n",
        "    return nb_customers, capacity, distance_matrix, distance_depots, demands"
      ]
    },
    {
      "cell_type": "markdown",
      "metadata": {
        "id": "day0lqZc_lIB"
      },
      "source": [
        "***Implémentation du modèle d'optimisation des routes de livraison avec Variable Neighborhood Search (VNS) ***"
      ]
    },
    {
      "cell_type": "code",
      "execution_count": null,
      "metadata": {
        "id": "JHJ_tDX9KRbi"
      },
      "outputs": [],
      "source": [
        "def generate_split_initial_solution(nb_customers, demands, capacity):\n",
        "    routes = []\n",
        "    remaining_demands = demands[:]\n",
        "    while any(remaining_demands):\n",
        "        route = []\n",
        "        current_load = 0\n",
        "        for customer in range(nb_customers):\n",
        "            if remaining_demands[customer] > 0:\n",
        "                deliverable = min(remaining_demands[customer], capacity - current_load)\n",
        "                if deliverable > 0:\n",
        "                    route.append((customer, deliverable))\n",
        "                    remaining_demands[customer] -= deliverable\n",
        "                    current_load += deliverable\n",
        "                    if current_load == capacity:\n",
        "                        break\n",
        "        routes.append(route)\n",
        "    return routes\n",
        "\n",
        "def calculate_split_solution_cost(routes, distance_matrix, distance_depots):\n",
        "    total_cost = 0\n",
        "    for route in routes:\n",
        "        if not route:\n",
        "            continue\n",
        "        total_cost += distance_depots[route[0][0]]\n",
        "        for i in range(len(route) - 1):\n",
        "            total_cost += distance_matrix[route[i][0]][route[i + 1][0]]\n",
        "        total_cost += distance_depots[route[-1][0]]\n",
        "    return total_cost\n",
        "\n",
        "def generate_neighborhood(routes, nb_customers, demands, capacity):\n",
        "    neighbors = []\n",
        "    for i, route in enumerate(routes):\n",
        "        for j, (customer, quantity) in enumerate(route):\n",
        "            if quantity > 1:\n",
        "                new_routes = [list(r) for r in routes]\n",
        "                split_quantity = quantity // 2\n",
        "                new_routes[i][j] = (customer, quantity - split_quantity)\n",
        "                for k, other_route in enumerate(new_routes):\n",
        "                    if k != i and sum(q for _, q in other_route) + split_quantity <= capacity:\n",
        "                        new_routes[k].append((customer, split_quantity))\n",
        "                        neighbors.append(new_routes)\n",
        "                        break\n",
        "    return neighbors\n",
        "\n",
        "def local_search(routes, distance_matrix, distance_depots, demands, capacity):\n",
        "    current_solution = routes\n",
        "    best_solution = routes\n",
        "    best_cost = calculate_split_solution_cost(routes, distance_matrix, distance_depots)\n",
        "\n",
        "    improving = True\n",
        "    while improving:\n",
        "        improving = False\n",
        "        neighborhood = generate_neighborhood(current_solution, len(demands), demands, capacity)\n",
        "        for neighbor in neighborhood:\n",
        "            cost = calculate_split_solution_cost(neighbor, distance_matrix, distance_depots)\n",
        "            if cost < best_cost:\n",
        "                best_solution = neighbor\n",
        "                best_cost = cost\n",
        "                improving = True\n",
        "        current_solution = best_solution\n",
        "\n",
        "    return best_solution\n",
        "\n",
        "def variable_neighborhood_search(nb_customers, demands, capacity, distance_matrix, distance_depots, max_iterations=100):\n",
        "    current_solution = generate_split_initial_solution(nb_customers, demands, capacity)\n",
        "    best_solution = current_solution\n",
        "    best_cost = calculate_split_solution_cost(current_solution, distance_matrix, distance_depots)\n",
        "\n",
        "    for iteration in range(max_iterations):\n",
        "        local_optimum = local_search(current_solution, distance_matrix, distance_depots, demands, capacity)\n",
        "        local_cost = calculate_split_solution_cost(local_optimum, distance_matrix, distance_depots)\n",
        "\n",
        "        if local_cost < best_cost:\n",
        "            best_solution = local_optimum\n",
        "            best_cost = local_cost\n",
        "\n",
        "        current_solution = generate_split_initial_solution(nb_customers, demands, capacity)\n",
        "\n",
        "    return best_solution, best_cost\n",
        "\n",
        "\n",
        "\n",
        "\n"
      ]
    },
    {
      "cell_type": "markdown",
      "metadata": {
        "id": "DTRuh-AAAZTp"
      },
      "source": [
        "**Création du fichier Solution**"
      ]
    },
    {
      "cell_type": "code",
      "execution_count": null,
      "metadata": {
        "id": "ITDSOGGsAozK"
      },
      "outputs": [],
      "source": [
        "def write_solution_to_file(filename, routes, cost, demands):\n",
        "    with open(filename, \"w\") as f:\n",
        "        for i, route in enumerate(routes):\n",
        "            route_str = \"0\"\n",
        "            load = 0\n",
        "            for customer, quantity in route:\n",
        "                route_str += f\" – {customer + 1} ({quantity})\"\n",
        "                load += quantity\n",
        "            route_str += \" – 0\"\n",
        "            f.write(f\"Route {i + 1}: {route_str}\\n\")\n",
        "        f.write(f\"Total cost: {best_cost}\\n\")\n",
        "        f.write(f\"Number of deliveries: {sum(len(route) for route in routes)}\\n\")\n",
        "        f.write(\"Loads: \" + \" \".join(str(sum(q for _, q in route)) for route in routes) + \"\\n\")"
      ]
    },
    {
      "cell_type": "code",
      "execution_count": null,
      "metadata": {
        "colab": {
          "base_uri": "https://localhost:8080/"
        },
        "id": "eRePNabHV4MS",
        "outputId": "a2a10c86-1e33-4588-8a2d-09f447709824"
      },
      "outputs": [],
      "source": [
        "\n",
        "if __name__ == \"__main__\":\n",
        "    \n",
        "    instances_dir = \"instances\"\n",
        "    solution_dir=\"/content/drive/MyDrive/Colab_Notebooks/proj_optim_combin\"\n",
        "    for filename in os.listdir(instances_dir):\n",
        "        if filename.endswith(\".txt\"):  \n",
        "            instance_path = os.path.join(instances_dir, filename)\n",
        "\n",
        "            nb_customers, capacity, distance_matrix, distance_depots, demands = read_input_instances(instance_path)\n",
        "            best_solution, best_cost = variable_neighborhood_search(nb_customers, demands, capacity, distance_matrix, distance_depots)\n",
        "\n",
        "            print(f\"Processed file: {filename}\")\n",
        "            print(\"Best Solution:\", best_solution)\n",
        "            print(\"Best Cost:\", best_cost)\n",
        "\n",
        "            output_filename = f\"solution_{filename}\"\n",
        "            output_path = os.path.join(solution_dir, output_filename)\n",
        "            write_solution_to_file(output_path, best_solution, best_cost, demands)\n",
        "            print(f\"Solution written to {output_path}\")\n"
      ]
    },
    {
      "cell_type": "code",
      "execution_count": null,
      "metadata": {
        "colab": {
          "base_uri": "https://localhost:8080/"
        },
        "id": "H-qARCLqROoE",
        "outputId": "f4f9b8b1-bd87-43aa-de3c-6d5170cddb58"
      },
      "outputs": [],
      "source": [
        "import os\n",
        "import openpyxl\n",
        "\n",
        "def extract_solution_data(file_path):\n",
        "    \"\"\"Extracts the relevant data (last lines) from a solution file.\"\"\"\n",
        "    with open(file_path, \"r\") as f:\n",
        "        lines = f.readlines()\n",
        "        if len(lines) >= 4:  \n",
        "            \n",
        "            total_cost = lines[-3].split(\":\")[1].strip()  \n",
        "            num_deliveries = lines[-2].split(\":\")[1].strip()  \n",
        "            loads = lines[-1].split(\":\")[1].strip()  \n",
        "            return total_cost, num_deliveries, loads\n",
        "    return None, None, None  \n",
        "\n",
        "if __name__ == \"__main__\":\n",
        "    solutions_dir = \"/content/drive/MyDrive/Colab_Notebooks/proj_optim_combin\"  \n",
        "    \n",
        "    excel_file_path = os.path.join(solutions_dir, \"solutions_summary.xlsx\")\n",
        "    \n",
        "    workbook = openpyxl.Workbook()\n",
        "    sheet = workbook.active\n",
        "    sheet.title = \"Solutions Summary\"\n",
        "\n",
        "    \n",
        "    sheet.append([\"Case\", \"Total Cost\", \"Number of Deliveries\", \"Loads\"])\n",
        "\n",
        "    \n",
        "    for filename in os.listdir(solutions_dir):\n",
        "        if filename.endswith(\".txt\"):  \n",
        "            solution_path = os.path.join(solutions_dir, filename)\n",
        "\n",
        "            \n",
        "            total_cost, num_deliveries, loads = extract_solution_data(solution_path)\n",
        "            if total_cost and num_deliveries and loads:\n",
        "                \n",
        "                case_name = filename.replace(\"solution_\", \"\").replace(\".txt\", \"\")\n",
        "\n",
        "                \n",
        "                sheet.append([case_name, total_cost, num_deliveries, loads])\n",
        "\n",
        "   \n",
        "    workbook.save(excel_file_path)\n",
        "    print(f\"Solutions summary saved to {excel_file_path}\")\n"
      ]
    },
    {
      "cell_type": "code",
      "execution_count": null,
      "metadata": {
        "colab": {
          "base_uri": "https://localhost:8080/",
          "height": 35
        },
        "id": "pqbCTaUdUys3",
        "outputId": "44a71b3d-a42d-4b35-9e3f-262a973394db"
      },
      "outputs": [],
      "source": [
        "import os\n",
        "import openpyxl\n",
        "\n",
        "\n",
        "solutions_dir = \"/content/drive/MyDrive/Colab_Notebooks/proj_optim_combin\"  \n",
        "\n",
        "excel_file_path = os.path.join(solutions_dir, \"solutions_summary.xlsx\")\n",
        "\n",
        "def extract_solution_data(file_path):\n",
        "    with open(file_path, \"r\") as f:\n",
        "        lines = f.readlines()\n",
        "        if len(lines) >= 4:  \n",
        "            total_cost = lines[-3].split(\":\")[1].strip()  \n",
        "            num_deliveries = lines[-2].split(\":\")[1].strip()  \n",
        "            loads = lines[-1].split(\":\")[1].strip()  \n",
        "            return total_cost, num_deliveries, loads\n",
        "    return None, None, None\n",
        "\n",
        "\n",
        "workbook = openpyxl.Workbook()\n",
        "sheet = workbook.active\n",
        "sheet.title = \"Solutions Summary\"\n",
        "\n",
        "\n",
        "sheet.append([\"Order\", \"Case\", \"Total Cost\", \"Number of Deliveries\", \"Loads\"])\n",
        "\n",
        "\n",
        "order = 1\n",
        "for filename in sorted(os.listdir(solutions_dir)):\n",
        "    if filename.endswith(\".txt\"):  \n",
        "        solution_path = os.path.join(solutions_dir, filename)\n",
        "        total_cost, num_deliveries, loads = extract_solution_data(solution_path)\n",
        "        if total_cost and num_deliveries and loads:\n",
        "            case_name = filename.replace(\"solution_\", \"\").replace(\".txt\", \"\")  \n",
        "            \n",
        "            sheet.append([order, case_name, total_cost, num_deliveries, loads])\n",
        "            order += 1\n",
        "\n",
        "workbook.save(excel_file_path)\n",
        "excel_file_path\n"
      ]
    }
  ],
  "metadata": {
    "colab": {
      "provenance": []
    },
    "kernelspec": {
      "display_name": "Python 3",
      "name": "python3"
    },
    "language_info": {
      "name": "python"
    }
  },
  "nbformat": 4,
  "nbformat_minor": 0
}
